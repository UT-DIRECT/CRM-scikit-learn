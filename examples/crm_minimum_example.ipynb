{
 "cells": [
  {
   "cell_type": "code",
   "execution_count": 2,
   "metadata": {},
   "outputs": [
    {
     "data": {
      "text/plain": [
       "'/Users/akhilpotla/ut/research/crm/crm/examples/crmp.py'"
      ]
     },
     "execution_count": 2,
     "metadata": {},
     "output_type": "execute_result"
    }
   ],
   "source": [
    "import matplotlib.pyplot as plt\n",
    "import numpy as np\n",
    "import pandas as pd\n",
    "from sklearn.metrics import mean_squared_error, r2_score\n",
    "from sklearn.model_selection import train_test_split\n",
    "\n",
    "from crmp import CRMP"
   ]
  },
  {
   "cell_type": "code",
   "execution_count": 3,
   "metadata": {},
   "outputs": [
    {
     "data": {
      "text/html": [
       "<div>\n",
       "<style scoped>\n",
       "    .dataframe tbody tr th:only-of-type {\n",
       "        vertical-align: middle;\n",
       "    }\n",
       "\n",
       "    .dataframe tbody tr th {\n",
       "        vertical-align: top;\n",
       "    }\n",
       "\n",
       "    .dataframe thead th {\n",
       "        text-align: right;\n",
       "    }\n",
       "</style>\n",
       "<table border=\"1\" class=\"dataframe\">\n",
       "  <thead>\n",
       "    <tr style=\"text-align: right;\">\n",
       "      <th></th>\n",
       "      <th>time</th>\n",
       "      <th>fixed_inj1</th>\n",
       "      <th>net_fixed_inj1</th>\n",
       "      <th>fixed_inj2</th>\n",
       "      <th>net_fixed_inj2</th>\n",
       "      <th>Prod1</th>\n",
       "      <th>Net_Prod1</th>\n",
       "      <th>Prod2</th>\n",
       "      <th>Net_Prod2</th>\n",
       "      <th>Prod3</th>\n",
       "      <th>Net_Prod3</th>\n",
       "      <th>Prod4</th>\n",
       "      <th>Net_Prod4</th>\n",
       "    </tr>\n",
       "  </thead>\n",
       "  <tbody>\n",
       "    <tr>\n",
       "      <th>0</th>\n",
       "      <td>1</td>\n",
       "      <td>818.969148</td>\n",
       "      <td>818.969148</td>\n",
       "      <td>624.763115</td>\n",
       "      <td>624.763115</td>\n",
       "      <td>322.898503</td>\n",
       "      <td>322.898503</td>\n",
       "      <td>444.030260</td>\n",
       "      <td>444.030260</td>\n",
       "      <td>134.372488</td>\n",
       "      <td>134.372488</td>\n",
       "      <td>15.447568</td>\n",
       "      <td>15.447568</td>\n",
       "    </tr>\n",
       "    <tr>\n",
       "      <th>1</th>\n",
       "      <td>2</td>\n",
       "      <td>348.066591</td>\n",
       "      <td>1167.035739</td>\n",
       "      <td>609.580654</td>\n",
       "      <td>1234.343769</td>\n",
       "      <td>436.943476</td>\n",
       "      <td>759.841979</td>\n",
       "      <td>482.554701</td>\n",
       "      <td>926.584961</td>\n",
       "      <td>192.070440</td>\n",
       "      <td>326.442928</td>\n",
       "      <td>23.069531</td>\n",
       "      <td>38.517099</td>\n",
       "    </tr>\n",
       "    <tr>\n",
       "      <th>2</th>\n",
       "      <td>3</td>\n",
       "      <td>526.344228</td>\n",
       "      <td>1693.379967</td>\n",
       "      <td>450.454029</td>\n",
       "      <td>1684.797797</td>\n",
       "      <td>450.902854</td>\n",
       "      <td>1210.744833</td>\n",
       "      <td>481.451908</td>\n",
       "      <td>1408.036869</td>\n",
       "      <td>247.161374</td>\n",
       "      <td>573.604303</td>\n",
       "      <td>32.734493</td>\n",
       "      <td>71.251592</td>\n",
       "    </tr>\n",
       "    <tr>\n",
       "      <th>3</th>\n",
       "      <td>4</td>\n",
       "      <td>1044.195126</td>\n",
       "      <td>2737.575093</td>\n",
       "      <td>458.553023</td>\n",
       "      <td>2143.350820</td>\n",
       "      <td>511.617980</td>\n",
       "      <td>1722.362813</td>\n",
       "      <td>615.055618</td>\n",
       "      <td>2023.092487</td>\n",
       "      <td>349.175521</td>\n",
       "      <td>922.779824</td>\n",
       "      <td>50.443457</td>\n",
       "      <td>121.695049</td>\n",
       "    </tr>\n",
       "    <tr>\n",
       "      <th>4</th>\n",
       "      <td>5</td>\n",
       "      <td>882.342469</td>\n",
       "      <td>3619.917562</td>\n",
       "      <td>435.225079</td>\n",
       "      <td>2578.575899</td>\n",
       "      <td>517.958436</td>\n",
       "      <td>2240.321248</td>\n",
       "      <td>614.433875</td>\n",
       "      <td>2637.526361</td>\n",
       "      <td>413.402839</td>\n",
       "      <td>1336.182663</td>\n",
       "      <td>65.145458</td>\n",
       "      <td>186.840507</td>\n",
       "    </tr>\n",
       "    <tr>\n",
       "      <th>...</th>\n",
       "      <td>...</td>\n",
       "      <td>...</td>\n",
       "      <td>...</td>\n",
       "      <td>...</td>\n",
       "      <td>...</td>\n",
       "      <td>...</td>\n",
       "      <td>...</td>\n",
       "      <td>...</td>\n",
       "      <td>...</td>\n",
       "      <td>...</td>\n",
       "      <td>...</td>\n",
       "      <td>...</td>\n",
       "      <td>...</td>\n",
       "    </tr>\n",
       "    <tr>\n",
       "      <th>145</th>\n",
       "      <td>146</td>\n",
       "      <td>881.621650</td>\n",
       "      <td>113340.795718</td>\n",
       "      <td>348.983598</td>\n",
       "      <td>73564.783389</td>\n",
       "      <td>511.083159</td>\n",
       "      <td>80980.717309</td>\n",
       "      <td>562.140327</td>\n",
       "      <td>89148.035744</td>\n",
       "      <td>680.621151</td>\n",
       "      <td>94356.259475</td>\n",
       "      <td>698.553113</td>\n",
       "      <td>70806.049919</td>\n",
       "    </tr>\n",
       "    <tr>\n",
       "      <th>146</th>\n",
       "      <td>147</td>\n",
       "      <td>714.163154</td>\n",
       "      <td>114054.958872</td>\n",
       "      <td>524.997524</td>\n",
       "      <td>74089.780914</td>\n",
       "      <td>536.262602</td>\n",
       "      <td>81516.979911</td>\n",
       "      <td>586.491791</td>\n",
       "      <td>89734.527536</td>\n",
       "      <td>672.985320</td>\n",
       "      <td>95029.244796</td>\n",
       "      <td>698.113066</td>\n",
       "      <td>71504.162986</td>\n",
       "    </tr>\n",
       "    <tr>\n",
       "      <th>147</th>\n",
       "      <td>148</td>\n",
       "      <td>428.606437</td>\n",
       "      <td>114483.565309</td>\n",
       "      <td>479.041732</td>\n",
       "      <td>74568.822646</td>\n",
       "      <td>503.511716</td>\n",
       "      <td>82020.491627</td>\n",
       "      <td>505.817925</td>\n",
       "      <td>90240.345461</td>\n",
       "      <td>632.343891</td>\n",
       "      <td>95661.588687</td>\n",
       "      <td>692.976215</td>\n",
       "      <td>72197.139200</td>\n",
       "    </tr>\n",
       "    <tr>\n",
       "      <th>148</th>\n",
       "      <td>149</td>\n",
       "      <td>1104.753516</td>\n",
       "      <td>115588.318824</td>\n",
       "      <td>440.161100</td>\n",
       "      <td>75008.983746</td>\n",
       "      <td>537.362249</td>\n",
       "      <td>82557.853876</td>\n",
       "      <td>632.355908</td>\n",
       "      <td>90872.701368</td>\n",
       "      <td>669.789162</td>\n",
       "      <td>96331.377848</td>\n",
       "      <td>698.497989</td>\n",
       "      <td>72895.637189</td>\n",
       "    </tr>\n",
       "    <tr>\n",
       "      <th>149</th>\n",
       "      <td>150</td>\n",
       "      <td>843.654969</td>\n",
       "      <td>116431.973794</td>\n",
       "      <td>485.704744</td>\n",
       "      <td>75494.688490</td>\n",
       "      <td>547.061082</td>\n",
       "      <td>83104.914958</td>\n",
       "      <td>630.161771</td>\n",
       "      <td>91502.863139</td>\n",
       "      <td>675.351538</td>\n",
       "      <td>97006.729387</td>\n",
       "      <td>699.954712</td>\n",
       "      <td>73595.591901</td>\n",
       "    </tr>\n",
       "  </tbody>\n",
       "</table>\n",
       "<p>150 rows × 13 columns</p>\n",
       "</div>"
      ],
      "text/plain": [
       "     time   fixed_inj1  net_fixed_inj1  fixed_inj2  net_fixed_inj2  \\\n",
       "0       1   818.969148      818.969148  624.763115      624.763115   \n",
       "1       2   348.066591     1167.035739  609.580654     1234.343769   \n",
       "2       3   526.344228     1693.379967  450.454029     1684.797797   \n",
       "3       4  1044.195126     2737.575093  458.553023     2143.350820   \n",
       "4       5   882.342469     3619.917562  435.225079     2578.575899   \n",
       "..    ...          ...             ...         ...             ...   \n",
       "145   146   881.621650   113340.795718  348.983598    73564.783389   \n",
       "146   147   714.163154   114054.958872  524.997524    74089.780914   \n",
       "147   148   428.606437   114483.565309  479.041732    74568.822646   \n",
       "148   149  1104.753516   115588.318824  440.161100    75008.983746   \n",
       "149   150   843.654969   116431.973794  485.704744    75494.688490   \n",
       "\n",
       "          Prod1     Net_Prod1       Prod2     Net_Prod2       Prod3  \\\n",
       "0    322.898503    322.898503  444.030260    444.030260  134.372488   \n",
       "1    436.943476    759.841979  482.554701    926.584961  192.070440   \n",
       "2    450.902854   1210.744833  481.451908   1408.036869  247.161374   \n",
       "3    511.617980   1722.362813  615.055618   2023.092487  349.175521   \n",
       "4    517.958436   2240.321248  614.433875   2637.526361  413.402839   \n",
       "..          ...           ...         ...           ...         ...   \n",
       "145  511.083159  80980.717309  562.140327  89148.035744  680.621151   \n",
       "146  536.262602  81516.979911  586.491791  89734.527536  672.985320   \n",
       "147  503.511716  82020.491627  505.817925  90240.345461  632.343891   \n",
       "148  537.362249  82557.853876  632.355908  90872.701368  669.789162   \n",
       "149  547.061082  83104.914958  630.161771  91502.863139  675.351538   \n",
       "\n",
       "        Net_Prod3       Prod4     Net_Prod4  \n",
       "0      134.372488   15.447568     15.447568  \n",
       "1      326.442928   23.069531     38.517099  \n",
       "2      573.604303   32.734493     71.251592  \n",
       "3      922.779824   50.443457    121.695049  \n",
       "4     1336.182663   65.145458    186.840507  \n",
       "..            ...         ...           ...  \n",
       "145  94356.259475  698.553113  70806.049919  \n",
       "146  95029.244796  698.113066  71504.162986  \n",
       "147  95661.588687  692.976215  72197.139200  \n",
       "148  96331.377848  698.497989  72895.637189  \n",
       "149  97006.729387  699.954712  73595.591901  \n",
       "\n",
       "[150 rows x 13 columns]"
      ]
     },
     "execution_count": 3,
     "metadata": {},
     "output_type": "execute_result"
    }
   ],
   "source": [
    "df = pd.read_csv('sample_data.csv')\n",
    "df"
   ]
  },
  {
   "cell_type": "code",
   "execution_count": 4,
   "metadata": {},
   "outputs": [],
   "source": [
    "time = df['time'].to_numpy()\n",
    "\n",
    "inj1 = df['fixed_inj1'].to_numpy()\n",
    "inj2 = df['fixed_inj2'].to_numpy()\n",
    "\n",
    "prod1 = df['Prod1'].to_numpy()\n",
    "prod2 = df['Prod2'].to_numpy()\n",
    "prod3 = df['Prod3'].to_numpy()\n",
    "prod4 = df['Prod4'].to_numpy()"
   ]
  },
  {
   "cell_type": "code",
   "execution_count": 5,
   "metadata": {},
   "outputs": [
    {
     "data": {
      "text/plain": [
       "Text(0.5, 1.0, 'Producer 1: Production Rate vs Time')"
      ]
     },
     "execution_count": 5,
     "metadata": {},
     "output_type": "execute_result"
    },
    {
     "data": {
      "image/png": "[encoded data removed]",
      "text/plain": [
       "<Figure size 432x288 with 1 Axes>"
      ]
     },
     "metadata": {
      "needs_background": "light"
     },
     "output_type": "display_data"
    }
   ],
   "source": [
    "plt.plot(time, prod1)\n",
    "plt.xlabel('Time')\n",
    "plt.ylabel('Production Rate')\n",
    "plt.title('Producer 1: Production Rate vs Time')"
   ]
  },
  {
   "cell_type": "markdown",
   "metadata": {},
   "source": [
    "### Preparing the data\n",
    "\n",
    "We are now ready to put our data into a format where we can `fit` and `predict` with it.\n",
    "\n",
    "The feature matrix should have it's first column as the production rate for all but the last time step. The last two columns should be the injector rates for the same time steps. The target vector should be the production rate for all but the first time step since that will ensure we are solving for the production rates on the following time step."
   ]
  },
  {
   "cell_type": "code",
   "execution_count": 6,
   "metadata": {},
   "outputs": [
    {
     "name": "stdout",
     "output_type": "stream",
     "text": [
      "X_train:  (119, 2)\n"
     ]
    }
   ],
   "source": [
    "X = np.array([inj1[:-1], inj2[:-1]]).T\n",
    "y = prod1[:-1]\n",
    "X_train, X_test, y_train, y_test = train_test_split(X, y, test_size=0.2, shuffle=False)\n",
    "print('X_train: ', X_train.shape)"
   ]
  },
  {
   "cell_type": "markdown",
   "metadata": {},
   "source": [
    "Just like all Scikit-Learn estimators we fit the model with `fit`, and we perform predictions with `predict`."
   ]
  },
  {
   "cell_type": "code",
   "execution_count": 7,
   "metadata": {},
   "outputs": [
    {
     "name": "stdout",
     "output_type": "stream",
     "text": [
      "Tau:  1.4999997152233744\n",
      "Gains:  [0.2000001 0.7999999]\n"
     ]
    }
   ],
   "source": [
    "crmp = CRMP().fit(X=X_train, y=y_train)\n",
    "print('Tau: ', crmp.tau_)\n",
    "print('Gains: ', crmp.gains_)"
   ]
  },
  {
   "cell_type": "code",
   "execution_count": 51,
   "metadata": {},
   "outputs": [
    {
     "data": {
      "text/plain": [
       "array([252.12153463, 483.37297701, 481.58406501, 591.37585606,\n",
       "       570.3615132 , 573.07818056, 610.77314932, 648.80450102,\n",
       "       687.64973851, 623.94303757, 694.95253336, 703.60874928,\n",
       "       707.30410877, 610.64577471, 622.8325706 , 621.31399615,\n",
       "       551.5601638 , 632.00117912, 596.30022716, 617.48621546,\n",
       "       642.60604409, 610.03552053, 537.35172262, 538.69484593,\n",
       "       568.27506983, 563.75057737, 511.08317206, 536.26262161,\n",
       "       503.51171931, 537.3622875 ])"
      ]
     },
     "execution_count": 51,
     "metadata": {},
     "output_type": "execute_result"
    }
   ],
   "source": [
    "y_hat = crmp.predict(X_test)\n",
    "y_hat"
   ]
  },
  {
   "cell_type": "code",
   "execution_count": 8,
   "metadata": {},
   "outputs": [
    {
     "data": {
      "text/plain": [
       "<matplotlib.legend.Legend at 0x7ff4d081c850>"
      ]
     },
     "execution_count": 8,
     "metadata": {},
     "output_type": "execute_result"
    },
    {
     "data": {
      "image/png": "[encoded data removed]",
      "text/plain": [
       "<Figure size 432x288 with 1 Axes>"
      ]
     },
     "metadata": {
      "needs_background": "light"
     },
     "output_type": "display_data"
    }
   ],
   "source": [
    "plt.plot(time[(len(X_train) + 1):], y_test)\n",
    "plt.plot(time[(len(X_train) + 1):], y_hat)\n",
    "plt.xlabel('Time')\n",
    "plt.ylabel('Production Rate')\n",
    "plt.title('Production Rate vs Time')\n",
    "plt.legend(['Actual', 'Predicted'])"
   ]
  },
  {
   "cell_type": "code",
   "execution_count": 9,
   "metadata": {},
   "outputs": [
    {
     "name": "stdout",
     "output_type": "stream",
     "text": [
      "MSE:  474.98198543091735\n"
     ]
    }
   ],
   "source": [
    "print('MSE: ', mean_squared_error(y_hat, y_test))"
   ]
  },
  {
   "cell_type": "markdown",
   "metadata": {},
   "source": [
    "### Practice\n",
    "\n",
    "Ok, now you have seen that example, it is time to use CRM on the other wells. Just like you would with any other Scikit-Learn estimator, you need to construct a feature matrix and a target vector."
   ]
  }
 ],
 "metadata": {
  "kernelspec": {
   "display_name": "Python 3",
   "language": "python",
   "name": "python3"
  },
  "language_info": {
   "codemirror_mode": {
    "name": "ipython",
    "version": 3
   },
   "file_extension": ".py",
   "mimetype": "text/x-python",
   "name": "python",
   "nbconvert_exporter": "python",
   "pygments_lexer": "ipython3",
   "version": "3.9.5"
  }
 },
 "nbformat": 4,
 "nbformat_minor": 4
}
