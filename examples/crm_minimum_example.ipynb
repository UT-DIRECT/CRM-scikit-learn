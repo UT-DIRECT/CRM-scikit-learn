{
 "cells": [
  {
   "cell_type": "code",
   "execution_count": 1,
   "metadata": {},
   "outputs": [],
   "source": [
    "import sys  \n",
    "sys.path.insert(0, '../src/models/')\n",
    "\n",
    "import matplotlib.pyplot as plt\n",
    "import numpy as np\n",
    "import pandas as pd\n",
    "from sklearn.metrics import mean_squared_error, r2_score\n",
    "from sklearn.model_selection import train_test_split\n",
    "\n",
    "from crmp import CRMP"
   ]
  },
  {
   "cell_type": "code",
   "execution_count": 2,
   "metadata": {},
   "outputs": [
    {
     "data": {
      "text/html": [
       "<div>\n",
       "<style scoped>\n",
       "    .dataframe tbody tr th:only-of-type {\n",
       "        vertical-align: middle;\n",
       "    }\n",
       "\n",
       "    .dataframe tbody tr th {\n",
       "        vertical-align: top;\n",
       "    }\n",
       "\n",
       "    .dataframe thead th {\n",
       "        text-align: right;\n",
       "    }\n",
       "</style>\n",
       "<table border=\"1\" class=\"dataframe\">\n",
       "  <thead>\n",
       "    <tr style=\"text-align: right;\">\n",
       "      <th></th>\n",
       "      <th>Time</th>\n",
       "      <th>Fixed_inj1</th>\n",
       "      <th>Net_Fixed_inj1</th>\n",
       "      <th>Fixed_inj2</th>\n",
       "      <th>Net_Fixed_inj2</th>\n",
       "      <th>Prod1</th>\n",
       "      <th>Net_Prod1</th>\n",
       "      <th>Prod2</th>\n",
       "      <th>Net_Prod2</th>\n",
       "      <th>Prod3</th>\n",
       "      <th>Net_Prod3</th>\n",
       "      <th>Prod4</th>\n",
       "      <th>Net_Prod4</th>\n",
       "    </tr>\n",
       "  </thead>\n",
       "  <tbody>\n",
       "    <tr>\n",
       "      <th>0</th>\n",
       "      <td>1</td>\n",
       "      <td>2983.338237</td>\n",
       "      <td>2983.338237</td>\n",
       "      <td>2359.123063</td>\n",
       "      <td>2359.123063</td>\n",
       "      <td>1168.400536</td>\n",
       "      <td>1168.400536</td>\n",
       "      <td>1711.521109</td>\n",
       "      <td>1711.521109</td>\n",
       "      <td>756.543392</td>\n",
       "      <td>756.543392</td>\n",
       "      <td>119.323936</td>\n",
       "      <td>119.323936</td>\n",
       "    </tr>\n",
       "    <tr>\n",
       "      <th>1</th>\n",
       "      <td>2</td>\n",
       "      <td>2370.479411</td>\n",
       "      <td>5353.817648</td>\n",
       "      <td>1977.425165</td>\n",
       "      <td>4336.548228</td>\n",
       "      <td>1696.024162</td>\n",
       "      <td>2864.424698</td>\n",
       "      <td>1545.258383</td>\n",
       "      <td>3256.779492</td>\n",
       "      <td>1095.986184</td>\n",
       "      <td>1852.529576</td>\n",
       "      <td>645.966255</td>\n",
       "      <td>765.290191</td>\n",
       "    </tr>\n",
       "    <tr>\n",
       "      <th>2</th>\n",
       "      <td>3</td>\n",
       "      <td>1862.301129</td>\n",
       "      <td>7216.118777</td>\n",
       "      <td>1569.592573</td>\n",
       "      <td>5906.140801</td>\n",
       "      <td>1406.975789</td>\n",
       "      <td>4271.400487</td>\n",
       "      <td>1905.041615</td>\n",
       "      <td>5161.821107</td>\n",
       "      <td>1863.306309</td>\n",
       "      <td>3715.835885</td>\n",
       "      <td>142.328675</td>\n",
       "      <td>907.618866</td>\n",
       "    </tr>\n",
       "    <tr>\n",
       "      <th>3</th>\n",
       "      <td>4</td>\n",
       "      <td>3212.086996</td>\n",
       "      <td>10428.205773</td>\n",
       "      <td>1650.049631</td>\n",
       "      <td>7556.190432</td>\n",
       "      <td>1815.847711</td>\n",
       "      <td>6087.248198</td>\n",
       "      <td>1946.367681</td>\n",
       "      <td>7108.188788</td>\n",
       "      <td>992.598165</td>\n",
       "      <td>4708.434051</td>\n",
       "      <td>553.343614</td>\n",
       "      <td>1460.962480</td>\n",
       "    </tr>\n",
       "    <tr>\n",
       "      <th>4</th>\n",
       "      <td>5</td>\n",
       "      <td>2774.610000</td>\n",
       "      <td>13202.815773</td>\n",
       "      <td>1251.272873</td>\n",
       "      <td>8807.463304</td>\n",
       "      <td>1614.392714</td>\n",
       "      <td>7701.640912</td>\n",
       "      <td>1794.386490</td>\n",
       "      <td>8902.575279</td>\n",
       "      <td>1119.796112</td>\n",
       "      <td>5828.230162</td>\n",
       "      <td>262.665902</td>\n",
       "      <td>1723.628381</td>\n",
       "    </tr>\n",
       "    <tr>\n",
       "      <th>...</th>\n",
       "      <td>...</td>\n",
       "      <td>...</td>\n",
       "      <td>...</td>\n",
       "      <td>...</td>\n",
       "      <td>...</td>\n",
       "      <td>...</td>\n",
       "      <td>...</td>\n",
       "      <td>...</td>\n",
       "      <td>...</td>\n",
       "      <td>...</td>\n",
       "      <td>...</td>\n",
       "      <td>...</td>\n",
       "      <td>...</td>\n",
       "    </tr>\n",
       "    <tr>\n",
       "      <th>145</th>\n",
       "      <td>146</td>\n",
       "      <td>324.576662</td>\n",
       "      <td>129248.156060</td>\n",
       "      <td>131.921365</td>\n",
       "      <td>74091.795920</td>\n",
       "      <td>203.991355</td>\n",
       "      <td>74949.789636</td>\n",
       "      <td>221.928233</td>\n",
       "      <td>84507.691783</td>\n",
       "      <td>274.139548</td>\n",
       "      <td>87241.650924</td>\n",
       "      <td>279.236680</td>\n",
       "      <td>63466.734817</td>\n",
       "    </tr>\n",
       "    <tr>\n",
       "      <th>146</th>\n",
       "      <td>147</td>\n",
       "      <td>246.934596</td>\n",
       "      <td>129495.090656</td>\n",
       "      <td>223.058834</td>\n",
       "      <td>74314.854754</td>\n",
       "      <td>197.173084</td>\n",
       "      <td>75146.962720</td>\n",
       "      <td>235.028995</td>\n",
       "      <td>84742.720778</td>\n",
       "      <td>244.337148</td>\n",
       "      <td>87485.988072</td>\n",
       "      <td>262.105372</td>\n",
       "      <td>63728.840189</td>\n",
       "    </tr>\n",
       "    <tr>\n",
       "      <th>147</th>\n",
       "      <td>148</td>\n",
       "      <td>148.202596</td>\n",
       "      <td>129643.293253</td>\n",
       "      <td>209.780595</td>\n",
       "      <td>74524.635349</td>\n",
       "      <td>209.747911</td>\n",
       "      <td>75356.710630</td>\n",
       "      <td>255.841715</td>\n",
       "      <td>84998.562493</td>\n",
       "      <td>240.604595</td>\n",
       "      <td>87726.592667</td>\n",
       "      <td>250.728658</td>\n",
       "      <td>63979.568847</td>\n",
       "    </tr>\n",
       "    <tr>\n",
       "      <th>148</th>\n",
       "      <td>149</td>\n",
       "      <td>468.599820</td>\n",
       "      <td>130111.893073</td>\n",
       "      <td>190.594779</td>\n",
       "      <td>74715.230128</td>\n",
       "      <td>211.126442</td>\n",
       "      <td>75567.837073</td>\n",
       "      <td>270.091367</td>\n",
       "      <td>85268.653861</td>\n",
       "      <td>288.444733</td>\n",
       "      <td>88015.037400</td>\n",
       "      <td>283.175650</td>\n",
       "      <td>64262.744497</td>\n",
       "    </tr>\n",
       "    <tr>\n",
       "      <th>149</th>\n",
       "      <td>150</td>\n",
       "      <td>430.177181</td>\n",
       "      <td>130542.070254</td>\n",
       "      <td>181.475064</td>\n",
       "      <td>74896.705192</td>\n",
       "      <td>206.019767</td>\n",
       "      <td>75773.856840</td>\n",
       "      <td>213.598899</td>\n",
       "      <td>85482.252760</td>\n",
       "      <td>261.878935</td>\n",
       "      <td>88276.916335</td>\n",
       "      <td>359.805362</td>\n",
       "      <td>64622.549859</td>\n",
       "    </tr>\n",
       "  </tbody>\n",
       "</table>\n",
       "<p>150 rows × 13 columns</p>\n",
       "</div>"
      ],
      "text/plain": [
       "     Time   Fixed_inj1  Net_Fixed_inj1   Fixed_inj2  Net_Fixed_inj2  \\\n",
       "0       1  2983.338237     2983.338237  2359.123063     2359.123063   \n",
       "1       2  2370.479411     5353.817648  1977.425165     4336.548228   \n",
       "2       3  1862.301129     7216.118777  1569.592573     5906.140801   \n",
       "3       4  3212.086996    10428.205773  1650.049631     7556.190432   \n",
       "4       5  2774.610000    13202.815773  1251.272873     8807.463304   \n",
       "..    ...          ...             ...          ...             ...   \n",
       "145   146   324.576662   129248.156060   131.921365    74091.795920   \n",
       "146   147   246.934596   129495.090656   223.058834    74314.854754   \n",
       "147   148   148.202596   129643.293253   209.780595    74524.635349   \n",
       "148   149   468.599820   130111.893073   190.594779    74715.230128   \n",
       "149   150   430.177181   130542.070254   181.475064    74896.705192   \n",
       "\n",
       "           Prod1     Net_Prod1        Prod2     Net_Prod2        Prod3  \\\n",
       "0    1168.400536   1168.400536  1711.521109   1711.521109   756.543392   \n",
       "1    1696.024162   2864.424698  1545.258383   3256.779492  1095.986184   \n",
       "2    1406.975789   4271.400487  1905.041615   5161.821107  1863.306309   \n",
       "3    1815.847711   6087.248198  1946.367681   7108.188788   992.598165   \n",
       "4    1614.392714   7701.640912  1794.386490   8902.575279  1119.796112   \n",
       "..           ...           ...          ...           ...          ...   \n",
       "145   203.991355  74949.789636   221.928233  84507.691783   274.139548   \n",
       "146   197.173084  75146.962720   235.028995  84742.720778   244.337148   \n",
       "147   209.747911  75356.710630   255.841715  84998.562493   240.604595   \n",
       "148   211.126442  75567.837073   270.091367  85268.653861   288.444733   \n",
       "149   206.019767  75773.856840   213.598899  85482.252760   261.878935   \n",
       "\n",
       "        Net_Prod3       Prod4     Net_Prod4  \n",
       "0      756.543392  119.323936    119.323936  \n",
       "1     1852.529576  645.966255    765.290191  \n",
       "2     3715.835885  142.328675    907.618866  \n",
       "3     4708.434051  553.343614   1460.962480  \n",
       "4     5828.230162  262.665902   1723.628381  \n",
       "..            ...         ...           ...  \n",
       "145  87241.650924  279.236680  63466.734817  \n",
       "146  87485.988072  262.105372  63728.840189  \n",
       "147  87726.592667  250.728658  63979.568847  \n",
       "148  88015.037400  283.175650  64262.744497  \n",
       "149  88276.916335  359.805362  64622.549859  \n",
       "\n",
       "[150 rows x 13 columns]"
      ]
     },
     "execution_count": 2,
     "metadata": {},
     "output_type": "execute_result"
    }
   ],
   "source": [
    "df = pd.read_csv('sample_data.csv')\n",
    "df"
   ]
  },
  {
   "cell_type": "code",
   "execution_count": 3,
   "metadata": {},
   "outputs": [],
   "source": [
    "time = df['Time'].to_numpy()\n",
    "\n",
    "inj1 = df['Fixed_inj1'].to_numpy()\n",
    "inj2 = df['Fixed_inj2'].to_numpy()\n",
    "\n",
    "prod1 = df['Prod1'].to_numpy()\n",
    "prod2 = df['Prod2'].to_numpy()\n",
    "prod3 = df['Prod3'].to_numpy()\n",
    "prod4 = df['Prod4'].to_numpy()"
   ]
  },
  {
   "cell_type": "code",
   "execution_count": 4,
   "metadata": {},
   "outputs": [
    {
     "data": {
      "text/plain": [
       "Text(0.5, 1.0, 'Producer 1: Production Rate vs Time')"
      ]
     },
     "execution_count": 4,
     "metadata": {},
     "output_type": "execute_result"
    },
    {
     "data": {
      "image/png": "[encoded data removed]",
      "text/plain": [
       "<Figure size 432x288 with 1 Axes>"
      ]
     },
     "metadata": {
      "needs_background": "light"
     },
     "output_type": "display_data"
    }
   ],
   "source": [
    "plt.plot(time, prod1)\n",
    "plt.xlabel('Time')\n",
    "plt.ylabel('Production Rate')\n",
    "plt.title('Producer 1: Production Rate vs Time')"
   ]
  },
  {
   "cell_type": "markdown",
   "metadata": {},
   "source": [
    "### Preparing the data\n",
    "\n",
    "We are now ready to put our data into a format where we can `fit` and `predict` with it.\n",
    "\n",
    "The feature matrix should have it's first column as the production rate for all but the last time step. The last two columns should be the injector rates for the same time steps. The target vector should be the production rate for all but the first time step since that will ensure we are solving for the production rates on the following time step."
   ]
  },
  {
   "cell_type": "code",
   "execution_count": 5,
   "metadata": {},
   "outputs": [
    {
     "name": "stdout",
     "output_type": "stream",
     "text": [
      "X_train:  (119, 3)\n"
     ]
    }
   ],
   "source": [
    "X = np.array([prod1[:-1], inj1[:-1], inj2[:-1]]).T\n",
    "y = prod1[1:]\n",
    "X_train, X_test, y_train, y_test = train_test_split(X, y, test_size=0.2, shuffle=False)\n",
    "print('X_train: ', X_train.shape)"
   ]
  },
  {
   "cell_type": "markdown",
   "metadata": {},
   "source": [
    "Just like all Scikit-Learn estimators we fit the model with `fit`, and we perform predictions with `predict`."
   ]
  },
  {
   "cell_type": "code",
   "execution_count": 6,
   "metadata": {},
   "outputs": [
    {
     "name": "stdout",
     "output_type": "stream",
     "text": [
      "Tau:  19.43783662295745\n",
      "Gains:  [0.04097392 0.95902608]\n"
     ]
    }
   ],
   "source": [
    "crmp = CRMP().fit(X=X_train, y=y_train)\n",
    "print('Tau: ', crmp.tau_)\n",
    "print('Gains: ', crmp.gains_)"
   ]
  },
  {
   "cell_type": "code",
   "execution_count": 7,
   "metadata": {},
   "outputs": [
    {
     "data": {
      "text/plain": [
       "array([246.63129917, 265.98808744, 241.01854963, 278.06802707,\n",
       "       249.19698777, 232.94979415, 278.43083575, 261.27624159,\n",
       "       274.74974324, 250.60918188, 268.98265117, 301.65381629,\n",
       "       268.18774145, 251.37014431, 274.43273136, 237.78988358,\n",
       "       253.49643234, 234.13898026, 223.44926961, 237.72360237,\n",
       "       246.265939  , 226.22057188, 197.38876091, 211.03681019,\n",
       "       210.43234297, 212.07964721, 200.77323522, 198.520184  ,\n",
       "       209.62302878, 210.66808061])"
      ]
     },
     "execution_count": 7,
     "metadata": {},
     "output_type": "execute_result"
    }
   ],
   "source": [
    "y_hat = crmp.predict(X_test)\n",
    "y_hat"
   ]
  },
  {
   "cell_type": "code",
   "execution_count": 8,
   "metadata": {},
   "outputs": [
    {
     "data": {
      "text/plain": [
       "<matplotlib.legend.Legend at 0x11ef5de50>"
      ]
     },
     "execution_count": 8,
     "metadata": {},
     "output_type": "execute_result"
    },
    {
     "data": {
      "image/png": "[encoded data removed]",
      "text/plain": [
       "<Figure size 432x288 with 1 Axes>"
      ]
     },
     "metadata": {
      "needs_background": "light"
     },
     "output_type": "display_data"
    }
   ],
   "source": [
    "plt.plot(time[(len(X_train) + 1):], y_test)\n",
    "plt.plot(time[(len(X_train) + 1):], y_hat)\n",
    "plt.xlabel('Time')\n",
    "plt.ylabel('Production Rate')\n",
    "plt.title('Production Rate vs Time')\n",
    "plt.legend(['Actual', 'Predicted'])"
   ]
  },
  {
   "cell_type": "code",
   "execution_count": 9,
   "metadata": {},
   "outputs": [
    {
     "name": "stdout",
     "output_type": "stream",
     "text": [
      "MSE:  474.98198543091735\n"
     ]
    }
   ],
   "source": [
    "print('MSE: ', mean_squared_error(y_hat, y_test))"
   ]
  },
  {
   "cell_type": "markdown",
   "metadata": {},
   "source": [
    "### Practice\n",
    "\n",
    "Ok, now you have seen that example, it is time to use CRM on the other wells. Just like you would with any other Scikit-Learn estimator, you need to construct a feature matrix and a target vector."
   ]
  }
 ],
 "metadata": {
  "kernelspec": {
   "display_name": "Python 3",
   "language": "python",
   "name": "python3"
  },
  "language_info": {
   "codemirror_mode": {
    "name": "ipython",
    "version": 3
   },
   "file_extension": ".py",
   "mimetype": "text/x-python",
   "name": "python",
   "nbconvert_exporter": "python",
   "pygments_lexer": "ipython3",
   "version": "3.7.4"
  }
 },
 "nbformat": 4,
 "nbformat_minor": 4
}
